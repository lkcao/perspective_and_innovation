{
  "cells": [
    {
      "cell_type": "code",
      "execution_count": null,
      "id": "1f05844b",
      "metadata": {
        "id": "1f05844b"
      },
      "outputs": [],
      "source": [
        "import pandas as pd\n",
        "import numpy as np\n",
        "import os\n",
        "os.chdir('/project/jevans/MAG_Dec_2021_snapshot')\n",
        "from tqdm import tqdm\n",
        "tqdm.pandas()\n",
        "\n",
        "import json\n",
        "# from langdetect import detect\n",
        "\n",
        "from pandarallel import pandarallel\n",
        "pandarallel.initialize(progress_bar=False,nb_workers=15)\n",
        "\n",
        "import gc\n",
        "\n",
        "import nltk"
      ]
    },
    {
      "cell_type": "code",
      "execution_count": null,
      "id": "a4fed4a2",
      "metadata": {
        "id": "a4fed4a2",
        "outputId": "2a7f5adb-4c27-4bf9-cea9-a0784980b5a2"
      },
      "outputs": [
        {
          "name": "stderr",
          "output_type": "stream",
          "text": [
            "100%|██████████| 941759/941759 [00:19<00:00, 47570.99it/s]\n",
            "100%|██████████| 1419665/1419665 [00:46<00:00, 30708.67it/s]\n",
            "100%|██████████| 1859666/1859666 [00:46<00:00, 39672.59it/s]\n",
            "100%|██████████| 2521049/2521049 [01:07<00:00, 37532.38it/s]\n",
            "100%|██████████| 3335669/3335669 [01:23<00:00, 39772.24it/s]\n",
            "100%|██████████| 4262130/4262130 [02:03<00:00, 34630.29it/s]\n",
            "100%|██████████| 6555529/6555529 [03:27<00:00, 31658.78it/s] \n",
            "100%|██████████| 9870468/9870468 [05:39<00:00, 29064.47it/s] \n",
            "100%|██████████| 12285392/12285392 [10:00<00:00, 20471.84it/s]\n",
            "100%|██████████| 10392439/10392439 [06:04<00:00, 28544.87it/s]\n"
          ]
        }
      ],
      "source": [
        "import pickle\n",
        "\n",
        "def clean_id(x):\n",
        "    try:\n",
        "        return int(x)\n",
        "    except:\n",
        "        return np.nan\n",
        "\n",
        "for seq in range(1,11):\n",
        "    space=Ulist[seq-1]\n",
        "    period_chunk=pd.read_csv(f'/project/jevans/likun/science/building_science_space/period_corpus/{seq}_tokenized.csv',low_memory=False,header=None,lineterminator='\\n')\n",
        "    period_chunk.columns=['index','ID','year','cleaned','tokens']\n",
        "    period_chunk.drop_duplicates(inplace=True)\n",
        "    period_chunk['year_group']=period_chunk['year'].apply(lambda x: get_year_group(x))\n",
        "    period_chunk['tokens']=period_chunk['tokens'].progress_apply(lambda x: get_tokens(x))\n",
        "    period_chunk['index']=period_chunk['tokens'].apply(lambda x: [w2i[n] for n in x if n in w2i.keys()])\n",
        "    period_chunk['vect']=period_chunk['index'].apply(lambda x: np.sum(space[x],axis=0))\n",
        "    period_chunk['word_count']=period_chunk['index'].apply(lambda x: len(x))\n",
        "    period_chunk['ID']=period_chunk['ID'].apply(lambda x: clean_id(x))\n",
        "    period_chunk=period_chunk[~period_chunk['ID'].isin(other_items)]\n",
        "    period_chunk=pd.merge(period_chunk,author_df,how='inner',on='ID')\n",
        "    for year in list(set(period_chunk['year'])):\n",
        "        period_year=period_chunk[period_chunk['year']==year]\n",
        "        with open(f'/project/jevans/likun/science_team/yearly_paper_vect/yearly_vects_{year}.pickle','wb') as handle:\n",
        "            pickle.dump(period_year[['author_id','ID','year','year_group','index','vect','word_count']], handle, protocol=pickle.HIGHEST_PROTOCOL)\n"
      ]
    },
    {
      "cell_type": "code",
      "execution_count": null,
      "id": "15898ead",
      "metadata": {
        "id": "15898ead"
      },
      "outputs": [],
      "source": []
    },
    {
      "cell_type": "code",
      "execution_count": null,
      "id": "55cc323f",
      "metadata": {
        "id": "55cc323f"
      },
      "outputs": [],
      "source": [
        "import pickle as pkl\n",
        "from collections import OrderedDict\n",
        "from sklearn.metrics.pairwise import cosine_distances as cosine_distance\n",
        "from sklearn.metrics.pairwise import cosine_similarity\n",
        "\n",
        "hash_=pd.read_csv('/project/jevans/likun/science/building_science_space/period_corpus/ten_period_version/words_hash_150_10period_version.csv')\n",
        "Ulist=pkl.load(open('/project/jevans/likun/science/building_science_space/period_corpus/ten_period_version/L10T10G100A1ngU_iter9.p','rb'))\n",
        "\n",
        "\n",
        "def get_vect(index_lst,space):\n",
        "    if len(index_lst)>0:\n",
        "        vect=space[index_lst]\n",
        "        return np.mean(vect,axis=0)\n",
        "    else:\n",
        "        return np.nan"
      ]
    },
    {
      "cell_type": "code",
      "execution_count": null,
      "id": "7628b12f",
      "metadata": {
        "id": "7628b12f"
      },
      "outputs": [],
      "source": [
        "def get_perspective_diversity(perspective_vectors):\n",
        "    bad_loc=np.where(np.isnan(perspective_vectors))\n",
        "    perspective_vectors=np.delete(perspective_vectors,bad_loc[0],0)\n",
        "\n",
        "    if len(perspective_vectors)>0:\n",
        "        bad_loc=np.where(np.isnan(perspective_vectors))\n",
        "        perspective_vectors=np.delete(perspective_vectors,bad_loc[0],0)\n",
        "\n",
        "        N=len(perspective_vectors)\n",
        "        perspective_diversity_matrix=cosine_distance(perspective_vectors, perspective_vectors)\n",
        "        perspective_diversity_matrix=(1-np.eye(N))*perspective_diversity_matrix\n",
        "        perspective_diversity=np.nansum(perspective_diversity_matrix)/(N**2-N)\n",
        "\n",
        "        return perspective_diversity\n",
        "    else:\n",
        "        return np.nan,np.nan,np.nan\n",
        "\n",
        "def get_background_diversity(inventor_vector):\n",
        "    bad_loc=np.where(np.isnan(inventor_vector))\n",
        "    inventor_vector=np.delete(inventor_vector,bad_loc[0],0)\n",
        "\n",
        "    N=len(inventor_vector)\n",
        "    distances=cosine_distance(inventor_vector,inventor_vector)\n",
        "    distances=(1-np.eye(N))*distances\n",
        "    background_diversity=np.nansum(distances)/(N**2-N)\n",
        "    return background_diversity\n",
        "\n",
        "def get_distance(arr1,arr2):\n",
        "    try:\n",
        "        return cosine_distance([arr1],[arr2])[0][0]\n",
        "    except:\n",
        "        return np.nan"
      ]
    },
    {
      "cell_type": "code",
      "execution_count": null,
      "id": "6e28a905",
      "metadata": {
        "colab": {
          "base_uri": "https://localhost:8080/"
        },
        "id": "6e28a905",
        "outputId": "e953a10f-15d0-46f2-fd27-c73794f6da4b"
      },
      "outputs": [
        {
          "output_type": "stream",
          "name": "stdout",
          "text": [
            "1.3333333333333333\n",
            "0.020495742000445388\n"
          ]
        }
      ],
      "source": [
        "##example\n",
        "\n",
        "import pickle as pkl\n",
        "from collections import OrderedDict\n",
        "from sklearn.metrics.pairwise import cosine_distances as cosine_distance\n",
        "from sklearn.metrics.pairwise import cosine_similarity\n",
        "\n",
        "team_empirical=np.array([[7,5],[9,5],[8,4],[8,8]])\n",
        "## assuming central project is at [8,5]\n",
        "pv_empirical=np.array([8,5])-team_empirical\n",
        "print(get_perspective_diversity(pv_empirical))\n",
        "print(get_background_diversity(team_empirical))\n"
      ]
    },
    {
      "cell_type": "code",
      "execution_count": null,
      "id": "587a1bcd",
      "metadata": {
        "id": "587a1bcd"
      },
      "outputs": [],
      "source": []
    },
    {
      "cell_type": "code",
      "execution_count": null,
      "id": "f71a2a4a",
      "metadata": {
        "colab": {
          "referenced_widgets": [
            "21fa12b24fe946e380ce9a4c901cbfb9",
            "2a21c27fc7d54073adbd7378206d182c",
            "ebc77f4e264a4586a145230c9da9206a",
            "febc46a2178941358f84582281751bde",
            "abe4f39fd1d64ded80565b70e88d42be",
            "0acf1d93f4be43ee9be97644b7f0b435",
            "b307468b8e1140d59e971ee73a2d2ce8",
            "1885c3439811473d8d11dd833aed310a",
            "2fd9650d976d4d719cb42d995137bb79",
            "83d338b8d0a94e54b9aa68f684b0ef1c",
            "bb1820be26b746d291c97fbc4808b9e7",
            "8de65636bf4a44208a75440f0b4e6467",
            "4e0741588096472693effe3337576b0b",
            "4abe42841ad140ef87aa2174aa5c6b8d",
            "8f6946ba634e4cebb73dc7a4e66ec9a0",
            "f8d16e3189894ecbb13d240bd9b2509d",
            "f914b2bcd59849f68d22da743ebe2834",
            "fa52105455924025bd08be10e59e325b",
            "4d75260695e34a36b03c1dd02b228d84",
            "93e593e3474b40be9fba4e77f9926b70",
            "63a0e19c46924b3cb33acef1270c3983",
            "180eeddf323348e6a90819f3c94ed982",
            "56ac4696aa164cd5b2449521b3db0d24",
            "7113fdac77c4440e91c3fa962ad720d5"
          ]
        },
        "id": "f71a2a4a",
        "outputId": "c13d1026-be9b-4823-b289-c6f46fc41bd5"
      },
      "outputs": [
        {
          "name": "stderr",
          "output_type": "stream",
          "text": [
            "100%|██████████| 5/5 [04:47<00:00, 57.52s/it]\n"
          ]
        },
        {
          "name": "stdout",
          "output_type": "stream",
          "text": [
            "2013 unmatched: 26296\n"
          ]
        },
        {
          "data": {
            "application/vnd.jupyter.widget-view+json": {
              "model_id": "21fa12b24fe946e380ce9a4c901cbfb9",
              "version_major": 2,
              "version_minor": 0
            },
            "text/plain": [
              "VBox(children=(HBox(children=(IntProgress(value=0, description='0.00%', max=1011910), Label(value='0 / 1011910…"
            ]
          },
          "metadata": {},
          "output_type": "display_data"
        },
        {
          "data": {
            "application/vnd.jupyter.widget-view+json": {
              "model_id": "2a21c27fc7d54073adbd7378206d182c",
              "version_major": 2,
              "version_minor": 0
            },
            "text/plain": [
              "VBox(children=(HBox(children=(IntProgress(value=0, description='0.00%', max=744603), Label(value='0 / 744603')…"
            ]
          },
          "metadata": {},
          "output_type": "display_data"
        },
        {
          "data": {
            "application/vnd.jupyter.widget-view+json": {
              "model_id": "ebc77f4e264a4586a145230c9da9206a",
              "version_major": 2,
              "version_minor": 0
            },
            "text/plain": [
              "VBox(children=(HBox(children=(IntProgress(value=0, description='0.00%', max=744603), Label(value='0 / 744603')…"
            ]
          },
          "metadata": {},
          "output_type": "display_data"
        },
        {
          "data": {
            "application/vnd.jupyter.widget-view+json": {
              "model_id": "febc46a2178941358f84582281751bde",
              "version_major": 2,
              "version_minor": 0
            },
            "text/plain": [
              "VBox(children=(HBox(children=(IntProgress(value=0, description='0.00%', max=744603), Label(value='0 / 744603')…"
            ]
          },
          "metadata": {},
          "output_type": "display_data"
        },
        {
          "data": {
            "application/vnd.jupyter.widget-view+json": {
              "model_id": "abe4f39fd1d64ded80565b70e88d42be",
              "version_major": 2,
              "version_minor": 0
            },
            "text/plain": [
              "VBox(children=(HBox(children=(IntProgress(value=0, description='0.00%', max=192809), Label(value='0 / 192809')…"
            ]
          },
          "metadata": {},
          "output_type": "display_data"
        },
        {
          "data": {
            "application/vnd.jupyter.widget-view+json": {
              "model_id": "0acf1d93f4be43ee9be97644b7f0b435",
              "version_major": 2,
              "version_minor": 0
            },
            "text/plain": [
              "VBox(children=(HBox(children=(IntProgress(value=0, description='0.00%', max=192809), Label(value='0 / 192809')…"
            ]
          },
          "metadata": {},
          "output_type": "display_data"
        },
        {
          "data": {
            "application/vnd.jupyter.widget-view+json": {
              "model_id": "b307468b8e1140d59e971ee73a2d2ce8",
              "version_major": 2,
              "version_minor": 0
            },
            "text/plain": [
              "VBox(children=(HBox(children=(IntProgress(value=0, description='0.00%', max=744603), Label(value='0 / 744603')…"
            ]
          },
          "metadata": {},
          "output_type": "display_data"
        },
        {
          "data": {
            "application/vnd.jupyter.widget-view+json": {
              "model_id": "1885c3439811473d8d11dd833aed310a",
              "version_major": 2,
              "version_minor": 0
            },
            "text/plain": [
              "VBox(children=(HBox(children=(IntProgress(value=0, description='0.00%', max=744603), Label(value='0 / 744603')…"
            ]
          },
          "metadata": {},
          "output_type": "display_data"
        },
        {
          "name": "stderr",
          "output_type": "stream",
          "text": [
            "100%|██████████| 5/5 [12:32<00:00, 150.49s/it]\n"
          ]
        },
        {
          "name": "stdout",
          "output_type": "stream",
          "text": [
            "2014 unmatched: 28033\n"
          ]
        },
        {
          "data": {
            "application/vnd.jupyter.widget-view+json": {
              "model_id": "2fd9650d976d4d719cb42d995137bb79",
              "version_major": 2,
              "version_minor": 0
            },
            "text/plain": [
              "VBox(children=(HBox(children=(IntProgress(value=0, description='0.00%', max=1055766), Label(value='0 / 1055766…"
            ]
          },
          "metadata": {},
          "output_type": "display_data"
        },
        {
          "data": {
            "application/vnd.jupyter.widget-view+json": {
              "model_id": "83d338b8d0a94e54b9aa68f684b0ef1c",
              "version_major": 2,
              "version_minor": 0
            },
            "text/plain": [
              "VBox(children=(HBox(children=(IntProgress(value=0, description='0.00%', max=785596), Label(value='0 / 785596')…"
            ]
          },
          "metadata": {},
          "output_type": "display_data"
        },
        {
          "data": {
            "application/vnd.jupyter.widget-view+json": {
              "model_id": "bb1820be26b746d291c97fbc4808b9e7",
              "version_major": 2,
              "version_minor": 0
            },
            "text/plain": [
              "VBox(children=(HBox(children=(IntProgress(value=0, description='0.00%', max=785596), Label(value='0 / 785596')…"
            ]
          },
          "metadata": {},
          "output_type": "display_data"
        },
        {
          "data": {
            "application/vnd.jupyter.widget-view+json": {
              "model_id": "8de65636bf4a44208a75440f0b4e6467",
              "version_major": 2,
              "version_minor": 0
            },
            "text/plain": [
              "VBox(children=(HBox(children=(IntProgress(value=0, description='0.00%', max=785596), Label(value='0 / 785596')…"
            ]
          },
          "metadata": {},
          "output_type": "display_data"
        },
        {
          "data": {
            "application/vnd.jupyter.widget-view+json": {
              "model_id": "4e0741588096472693effe3337576b0b",
              "version_major": 2,
              "version_minor": 0
            },
            "text/plain": [
              "VBox(children=(HBox(children=(IntProgress(value=0, description='0.00%', max=198304), Label(value='0 / 198304')…"
            ]
          },
          "metadata": {},
          "output_type": "display_data"
        },
        {
          "data": {
            "application/vnd.jupyter.widget-view+json": {
              "model_id": "4abe42841ad140ef87aa2174aa5c6b8d",
              "version_major": 2,
              "version_minor": 0
            },
            "text/plain": [
              "VBox(children=(HBox(children=(IntProgress(value=0, description='0.00%', max=198304), Label(value='0 / 198304')…"
            ]
          },
          "metadata": {},
          "output_type": "display_data"
        },
        {
          "data": {
            "application/vnd.jupyter.widget-view+json": {
              "model_id": "8f6946ba634e4cebb73dc7a4e66ec9a0",
              "version_major": 2,
              "version_minor": 0
            },
            "text/plain": [
              "VBox(children=(HBox(children=(IntProgress(value=0, description='0.00%', max=785594), Label(value='0 / 785594')…"
            ]
          },
          "metadata": {},
          "output_type": "display_data"
        },
        {
          "data": {
            "application/vnd.jupyter.widget-view+json": {
              "model_id": "f8d16e3189894ecbb13d240bd9b2509d",
              "version_major": 2,
              "version_minor": 0
            },
            "text/plain": [
              "VBox(children=(HBox(children=(IntProgress(value=0, description='0.00%', max=785594), Label(value='0 / 785594')…"
            ]
          },
          "metadata": {},
          "output_type": "display_data"
        },
        {
          "name": "stderr",
          "output_type": "stream",
          "text": [
            "100%|██████████| 5/5 [12:34<00:00, 150.95s/it]\n"
          ]
        },
        {
          "name": "stdout",
          "output_type": "stream",
          "text": [
            "2015 unmatched: 28408\n"
          ]
        },
        {
          "data": {
            "application/vnd.jupyter.widget-view+json": {
              "model_id": "f914b2bcd59849f68d22da743ebe2834",
              "version_major": 2,
              "version_minor": 0
            },
            "text/plain": [
              "VBox(children=(HBox(children=(IntProgress(value=0, description='0.00%', max=1090052), Label(value='0 / 1090052…"
            ]
          },
          "metadata": {},
          "output_type": "display_data"
        },
        {
          "data": {
            "application/vnd.jupyter.widget-view+json": {
              "model_id": "fa52105455924025bd08be10e59e325b",
              "version_major": 2,
              "version_minor": 0
            },
            "text/plain": [
              "VBox(children=(HBox(children=(IntProgress(value=0, description='0.00%', max=835009), Label(value='0 / 835009')…"
            ]
          },
          "metadata": {},
          "output_type": "display_data"
        },
        {
          "data": {
            "application/vnd.jupyter.widget-view+json": {
              "model_id": "4d75260695e34a36b03c1dd02b228d84",
              "version_major": 2,
              "version_minor": 0
            },
            "text/plain": [
              "VBox(children=(HBox(children=(IntProgress(value=0, description='0.00%', max=835009), Label(value='0 / 835009')…"
            ]
          },
          "metadata": {},
          "output_type": "display_data"
        },
        {
          "data": {
            "application/vnd.jupyter.widget-view+json": {
              "model_id": "93e593e3474b40be9fba4e77f9926b70",
              "version_major": 2,
              "version_minor": 0
            },
            "text/plain": [
              "VBox(children=(HBox(children=(IntProgress(value=0, description='0.00%', max=835009), Label(value='0 / 835009')…"
            ]
          },
          "metadata": {},
          "output_type": "display_data"
        },
        {
          "data": {
            "application/vnd.jupyter.widget-view+json": {
              "model_id": "63a0e19c46924b3cb33acef1270c3983",
              "version_major": 2,
              "version_minor": 0
            },
            "text/plain": [
              "VBox(children=(HBox(children=(IntProgress(value=0, description='0.00%', max=201992), Label(value='0 / 201992')…"
            ]
          },
          "metadata": {},
          "output_type": "display_data"
        },
        {
          "data": {
            "application/vnd.jupyter.widget-view+json": {
              "model_id": "180eeddf323348e6a90819f3c94ed982",
              "version_major": 2,
              "version_minor": 0
            },
            "text/plain": [
              "VBox(children=(HBox(children=(IntProgress(value=0, description='0.00%', max=201992), Label(value='0 / 201992')…"
            ]
          },
          "metadata": {},
          "output_type": "display_data"
        },
        {
          "data": {
            "application/vnd.jupyter.widget-view+json": {
              "model_id": "56ac4696aa164cd5b2449521b3db0d24",
              "version_major": 2,
              "version_minor": 0
            },
            "text/plain": [
              "VBox(children=(HBox(children=(IntProgress(value=0, description='0.00%', max=835009), Label(value='0 / 835009')…"
            ]
          },
          "metadata": {},
          "output_type": "display_data"
        },
        {
          "data": {
            "application/vnd.jupyter.widget-view+json": {
              "model_id": "7113fdac77c4440e91c3fa962ad720d5",
              "version_major": 2,
              "version_minor": 0
            },
            "text/plain": [
              "VBox(children=(HBox(children=(IntProgress(value=0, description='0.00%', max=835009), Label(value='0 / 835009')…"
            ]
          },
          "metadata": {},
          "output_type": "display_data"
        }
      ],
      "source": [
        "##in this code, \"ID\" is the id for papers/projects, and author_id is the id for team members.\n",
        "\n",
        "for year in range(1981,2016):\n",
        "    year_group=get_year_group(year)\n",
        "    space=Ulist[year_group-1]\n",
        "\n",
        "    with open(f'/project/jevans/likun/science_team/yearly_paper_vect/yearly_vects_{year}.0.pickle','rb') as file:\n",
        "        target_year=pkl.load(file)\n",
        "    target_authors=list(set(target_year['author_id']))\n",
        "    target_year['author_id']=target_year['author_id'].apply(lambda x: str(x).strip())\n",
        "\n",
        "    history_dfs=pd.DataFrame()\n",
        "    for hy in tqdm(range(year-5,year)):\n",
        "        with open(f'/project/jevans/likun/science_team/yearly_paper_vect/yearly_vects_{hy}.0.pickle','rb') as file:\n",
        "            history_part=pkl.load(file)\n",
        "            history_part=history_part[history_part['author_id'].isin(target_authors)]\n",
        "        history_dfs=pd.concat([history_dfs,history_part])\n",
        "    history_dfs=history_dfs[['author_id','ID','year','index']]\n",
        "    history_dfs['author_id']=history_dfs['author_id'].apply(lambda x: str(x).strip())\n",
        "\n",
        "    history_dfs=history_dfs[~history_dfs.astype(str).duplicated()]\n",
        "    history_dfs=history_dfs[['author_id','year','index']]\n",
        "\n",
        "    history_dfs['year']=history_dfs['year'].apply(lambda x: int(float(x)))\n",
        "    gc.collect()\n",
        "\n",
        "    history_dfs=pd.DataFrame(history_dfs.groupby('author_id')['index'].sum())\n",
        "    history_dfs.columns=['all_index']\n",
        "    target_year=pd.merge(target_year,history_dfs,how='left',on='assigned_id')\n",
        "    target_year['vect']=target_year['index'].parallel_apply(lambda x: get_vect(x,space))\n",
        "\n",
        "    target_year=target_year[~target_year['all_index'].isna()]\n",
        "    target_year['history_vect']=target_year['all_index'].parallel_apply(lambda x: get_vect(x,space))\n",
        "    target_year['perspective_vect']=target_year['vect']-target_year['history_vect']\n",
        "\n",
        "    target_year['perspective_vect']=target_year['perspective_vect'].apply(lambda x: [list(x)])\n",
        "    perspective_sets=pd.DataFrame(target_year.groupby('ID')['perspective_vect'].sum())\n",
        "    perspective_sets.reset_index(inplace=True)\n",
        "    perspective_sets['perspective_vect']=perspective_sets['perspective_vect'].apply(lambda x: np.array(x))\n",
        "    perspective_sets['perspective_diversity']=perspective_sets['perspective_vect'].parallel_apply(lambda x: get_perspective_diversity(x))\n",
        "    perspective_sets=perspective_sets[['ID','perspective_diversity']]\n",
        "\n",
        "    target_year=target_year[~target_year['history_vect'].isna()]\n",
        "    target_year['history_vect']=target_year['history_vect'].apply(lambda x: [list(x)])\n",
        "    background_sets=pd.DataFrame(target_year.groupby('ID')['history_vect'].sum())\n",
        "    background_sets.reset_index(inplace=True)\n",
        "    background_sets['history_vect']=background_sets['history_vect'].apply(lambda x: np.array(x))\n",
        "    background_sets['bdiversity']=background_sets['history_vect'].parallel_apply(lambda x: get_background_diversity(x))\n",
        "    background_sets=background_sets[['ID','bdiversity']]\n",
        "\n",
        "    team_size=pd.DataFrame(target_year.groupby('ID')['author_id'].count())\n",
        "    team_size.columns=['team_size']\n",
        "    team_size.reset_index(inplace=True)\n",
        "\n",
        "    outcomes=pd.merge(team_size,perspective_sets,how='left',on='ID')\n",
        "    outcomes=pd.merge(outcomes,background_sets,how='left',on='ID')\n",
        "    outcomes=outcomes[outcomes['team_size']>1]\n",
        "    outcomes['year']=year\n",
        "    outcomes.to_csv(f'/project/jevans/likun/science_team/scores_results/{year}_scores_5y.csv')\n",
        "    gc.collect()"
      ]
    },
    {
      "cell_type": "code",
      "execution_count": null,
      "id": "64824597",
      "metadata": {
        "id": "64824597"
      },
      "outputs": [],
      "source": []
    },
    {
      "cell_type": "code",
      "execution_count": null,
      "id": "7a8511f5",
      "metadata": {
        "id": "7a8511f5"
      },
      "outputs": [],
      "source": []
    }
  ],
  "metadata": {
    "kernelspec": {
      "display_name": "Python 3",
      "language": "python",
      "name": "python3"
    },
    "language_info": {
      "codemirror_mode": {
        "name": "ipython",
        "version": 3
      },
      "file_extension": ".py",
      "mimetype": "text/x-python",
      "name": "python",
      "nbconvert_exporter": "python",
      "pygments_lexer": "ipython3",
      "version": "3.8.8"
    },
    "colab": {
      "provenance": []
    }
  },
  "nbformat": 4,
  "nbformat_minor": 5
}